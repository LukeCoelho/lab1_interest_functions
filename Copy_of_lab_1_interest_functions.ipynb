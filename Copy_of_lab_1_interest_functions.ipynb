{
  "cells": [
    {
      "cell_type": "markdown",
      "metadata": {
        "id": "view-in-github",
        "colab_type": "text"
      },
      "source": [
        "<a href=\"https://colab.research.google.com/github/LukeCoelho/lab1_interest_functions/blob/master/Copy_of_lab_1_interest_functions.ipynb\" target=\"_parent\"><img src=\"https://colab.research.google.com/assets/colab-badge.svg\" alt=\"Open In Colab\"/></a>"
      ]
    },
    {
      "cell_type": "markdown",
      "metadata": {
        "id": "SyTVoIfYdJEF"
      },
      "source": [
        "## Lab 1 - Compound Interest Functions\n",
        "\n",
        "Below you will find a table of important formulae related to compound interest.  \n",
        "\n",
        "<img src=\"https://www.dummies.com/wp-content/uploads/251689.image0.jpg\" alt=\"image0.jpg\" width=\"400\" height=\"319\">\n",
        "\n",
        "In this lab, you will create functions for each of these using (and documenting) the following workflow.\n",
        "\n",
        "1. Work out the correct answer for a few examples. *Hint* Search for e.g. \"worked out compound interest examples\" on the web.\n",
        "2. Write a `lambda` function and test this function on your test cases.\n",
        "3. Convert the `lambda` function to a `def` statement with an informative doc string that follows the [Google formating rules](https://google.github.io/styleguide/pyguide.html#383-functions-and-methods).\n",
        "4. Write an automated test function (using your previous examples) that will test your `def` statement function each time the code is executed."
      ]
    },
    {
      "cell_type": "markdown",
      "metadata": {
        "id": "gJ1vy_1-dJEH"
      },
      "source": [
        "#### Problem 1 -- Apply the process to create a simple interest functions."
      ]
    },
    {
      "cell_type": "code",
      "source": [
        "p = 10000\n",
        "r = .0375\n",
        "t = 5\n",
        "simple_interest = p*r*t\n",
        "simple_interest"
      ],
      "metadata": {
        "colab": {
          "base_uri": "https://localhost:8080/"
        },
        "id": "7A5Mk2gamDJ1",
        "outputId": "0d423bd0-41af-4fef-8648-275afd414a94"
      },
      "execution_count": 1,
      "outputs": [
        {
          "output_type": "execute_result",
          "data": {
            "text/plain": [
              "1875.0"
            ]
          },
          "metadata": {},
          "execution_count": 1
        }
      ]
    },
    {
      "cell_type": "code",
      "source": [
        "simple_interest = lambda p, r, t: p*r*t"
      ],
      "metadata": {
        "id": "z_BmXVLgivYS"
      },
      "execution_count": 2,
      "outputs": []
    },
    {
      "cell_type": "code",
      "source": [
        "simple_interest(10000, .0375, 5)"
      ],
      "metadata": {
        "colab": {
          "base_uri": "https://localhost:8080/"
        },
        "id": "CAweLeqNkhIN",
        "outputId": "c0b4ec14-bfd5-4b93-a6a0-097fdd89f851"
      },
      "execution_count": 3,
      "outputs": [
        {
          "output_type": "execute_result",
          "data": {
            "text/plain": [
              "1875.0"
            ]
          },
          "metadata": {},
          "execution_count": 3
        }
      ]
    },
    {
      "cell_type": "code",
      "source": [
        "def simple_interest(p, r, t):\n",
        "    \"\"\"Computes simple interest given principal, interest rate, and time in years\"\"\"\n",
        "    output = p*r*t\n",
        "    return output\n",
        "\n",
        "def test_simple_interest():\n",
        "    assert simple_interest(10000,.0375,5) == 1875\n",
        "test_simple_interest()"
      ],
      "metadata": {
        "id": "xD7lhMa4mX52"
      },
      "execution_count": 4,
      "outputs": []
    },
    {
      "cell_type": "code",
      "source": [
        "def simple_interest(p, r, t):\n",
        "    \"\"\"Computes simple interest given principal, interest rate, and time in years\n",
        "    \n",
        "    Args:\n",
        "        p: principal\n",
        "        r: interest rate\n",
        "        t: time in years\n",
        "        \n",
        "    Returns:\n",
        "        The amount of interest\n",
        "    \"\"\"\n",
        "    output = p*r*t\n",
        "    return output"
      ],
      "metadata": {
        "id": "upsZuZAQnPuk"
      },
      "execution_count": 5,
      "outputs": []
    },
    {
      "cell_type": "markdown",
      "metadata": {
        "id": "LFF7eDnpdJEJ"
      },
      "source": [
        "#### Problem 2 -- Apply the process to create a compound interest functions."
      ]
    },
    {
      "cell_type": "code",
      "execution_count": 20,
      "metadata": {
        "id": "RMhU-10LdJEJ",
        "colab": {
          "base_uri": "https://localhost:8080/"
        },
        "outputId": "f871e51c-8874-4975-d221-13b4996b7850"
      },
      "outputs": [
        {
          "output_type": "execute_result",
          "data": {
            "text/plain": [
              "11616.17"
            ]
          },
          "metadata": {},
          "execution_count": 20
        }
      ],
      "source": [
        "p = 10000\n",
        "r = .03\n",
        "n = 12\n",
        "t = 5\n",
        "compound_interest = p*((1+(r/n))**(n*t))\n",
        "round(compound_interest, 2)"
      ]
    },
    {
      "cell_type": "code",
      "source": [
        "compound_interest = lambda p, r, n, t: p*((1+(r/n))**(n*t))"
      ],
      "metadata": {
        "id": "N9QFp6ZFv6L8"
      },
      "execution_count": 21,
      "outputs": []
    },
    {
      "cell_type": "code",
      "source": [
        "round(compound_interest(10000,.03,12,5),2)"
      ],
      "metadata": {
        "colab": {
          "base_uri": "https://localhost:8080/"
        },
        "id": "X2ZlKc-0v6Ep",
        "outputId": "e35a62f4-bfd6-4306-c34f-b2b8ca919d21"
      },
      "execution_count": 24,
      "outputs": [
        {
          "output_type": "execute_result",
          "data": {
            "text/plain": [
              "11616.17"
            ]
          },
          "metadata": {},
          "execution_count": 24
        }
      ]
    },
    {
      "cell_type": "code",
      "source": [
        "def compound_interest(p, r, n, t):\n",
        "    \"\"\"Computes compound interest given principal, interest rate, number of compoundings, and time in years\"\"\"\n",
        "    output = p*((1+(r/n))**(n*t))\n",
        "    return output\n",
        "\n",
        "def test_compound_interest():\n",
        "    assert round(compound_interest(10000,.03,12,5),2) == 11616.17\n",
        "test_compound_interest()"
      ],
      "metadata": {
        "id": "dhbq-aGrv6BH"
      },
      "execution_count": 26,
      "outputs": []
    },
    {
      "cell_type": "code",
      "source": [
        "def compound_interest(p, r, n, t):\n",
        "    \"\"\"Computes compound interest given principal, interest rate, number of compoundings, and time in years\n",
        "    \n",
        "    Args:\n",
        "        p: principal\n",
        "        r: interest rate\n",
        "        n: number of compoundings\n",
        "        t: time in years\n",
        "        \n",
        "    Returns:\n",
        "        The amount of interest\n",
        "    \"\"\"\n",
        "    output = p*((1+(r/n))**(n*t))\n",
        "    return output"
      ],
      "metadata": {
        "id": "rwohZb0KwZuD"
      },
      "execution_count": 28,
      "outputs": []
    },
    {
      "cell_type": "markdown",
      "metadata": {
        "id": "CC1fSzR3dJEJ"
      },
      "source": [
        "#### Problem 3 -- Apply the process to create a amortized loan payment function."
      ]
    },
    {
      "cell_type": "code",
      "execution_count": 46,
      "metadata": {
        "id": "SNSUxHEGdJEJ",
        "colab": {
          "base_uri": "https://localhost:8080/"
        },
        "outputId": "5a2af2dc-3538-4f3b-b01e-8d03935d46e1"
      },
      "outputs": [
        {
          "output_type": "execute_result",
          "data": {
            "text/plain": [
              "2528.27"
            ]
          },
          "metadata": {},
          "execution_count": 46
        }
      ],
      "source": [
        "p = 400000\n",
        "i = .00541667\n",
        "n = 360\n",
        "amortized_loan_payment = (p*i)/(1-(1+i)**-n)\n",
        "round(amortized_loan_payment,2)"
      ]
    },
    {
      "cell_type": "code",
      "source": [
        "amortized_loan_payment = lambda p, i, n: (p*i)/(1-(1+i)**-n)"
      ],
      "metadata": {
        "id": "VfH-McN3yoGZ"
      },
      "execution_count": 47,
      "outputs": []
    },
    {
      "cell_type": "code",
      "source": [
        "round(amortized_loan_payment(400000,.00541667,360),2)"
      ],
      "metadata": {
        "colab": {
          "base_uri": "https://localhost:8080/"
        },
        "id": "9_jVZqZW3zBG",
        "outputId": "f9c08f2a-812e-4a84-f01f-600b0fa8265b"
      },
      "execution_count": 50,
      "outputs": [
        {
          "output_type": "execute_result",
          "data": {
            "text/plain": [
              "2528.27"
            ]
          },
          "metadata": {},
          "execution_count": 50
        }
      ]
    },
    {
      "cell_type": "code",
      "source": [
        "def amortized_loan_payment(p, i, n):\n",
        "    \"\"\"Computes amorized loan payment given amount borrowed, interest rate per period, and number of payments\"\"\"\n",
        "    output = (p*i)/(1-(1+i)**-n)\n",
        "    return output\n",
        "\n",
        "def test_amorized_loan_payment():\n",
        "    assert round(amortized_loan_payment(400000,.00541667,360),2) == 2528.27\n",
        "test_amorized_loan_payment()"
      ],
      "metadata": {
        "id": "QjEf1bC7ypis"
      },
      "execution_count": 54,
      "outputs": []
    },
    {
      "cell_type": "code",
      "source": [
        "def amortized_loan_payment(p, i, n):\n",
        "    \"\"\"Computes amorized loan payment given amount borrowed, interest rate per period, and number of payments\n",
        "    \n",
        "    Args:\n",
        "        p: amount borrowed\n",
        "        i: interest rate per period\n",
        "        n: number of payments\n",
        "                \n",
        "    Returns:\n",
        "        The amorized loan payment\n",
        "    \"\"\"\n",
        "    output = (p*i)/(1-(1+i)**-n)\n",
        "    return output"
      ],
      "metadata": {
        "id": "oeOChAVUyn46"
      },
      "execution_count": 55,
      "outputs": []
    },
    {
      "cell_type": "markdown",
      "metadata": {
        "id": "2guI4GkwdJEK"
      },
      "source": [
        "#### Problem 4 -- Apply the process to create a remaining balance function"
      ]
    },
    {
      "cell_type": "code",
      "execution_count": 63,
      "metadata": {
        "id": "AKcOcRJ9dJEK",
        "colab": {
          "base_uri": "https://localhost:8080/"
        },
        "outputId": "a34c9181-30c0-4973-b42f-efda0cb46836"
      },
      "outputs": [
        {
          "output_type": "execute_result",
          "data": {
            "text/plain": [
              "7208.31"
            ]
          },
          "metadata": {},
          "execution_count": 63
        }
      ],
      "source": [
        "r = 500\n",
        "i = .005\n",
        "n = 30\n",
        "x = 15\n",
        "remaining_balance = r*((1-(1+i)**(-(n-x)))/i)\n",
        "round(remaining_balance,2)"
      ]
    },
    {
      "cell_type": "code",
      "source": [
        "remaining_balance = lambda r, i, n, x: r*((1-(1+i)**(-(n-x)))/i)"
      ],
      "metadata": {
        "id": "PM18p1pt5pUH"
      },
      "execution_count": 64,
      "outputs": []
    },
    {
      "cell_type": "code",
      "source": [
        "round(remaining_balance(500,.005,30,15),2)"
      ],
      "metadata": {
        "colab": {
          "base_uri": "https://localhost:8080/"
        },
        "id": "1m_NDWkM5pQm",
        "outputId": "8e90f732-9c8e-4140-98ce-d311c41f6702"
      },
      "execution_count": 66,
      "outputs": [
        {
          "output_type": "execute_result",
          "data": {
            "text/plain": [
              "7208.31"
            ]
          },
          "metadata": {},
          "execution_count": 66
        }
      ]
    },
    {
      "cell_type": "code",
      "source": [
        "def remaining_balance(r, i, n, x):\n",
        "    \"\"\"Computes the remaining balance given regular payment amount,interest rate\n",
        "    per period, number of payments, and number of payments already made\"\"\"\n",
        "    output = r*((1-(1+i)**(-(n-x)))/i)\n",
        "    return output\n",
        "\n",
        "def test_remaining_balance():\n",
        "    assert round(remaining_balance(500,.005,30,15),2) == 7208.31\n",
        "test_remaining_balance()"
      ],
      "metadata": {
        "id": "e0aOQbwq5pNL"
      },
      "execution_count": 69,
      "outputs": []
    },
    {
      "cell_type": "code",
      "source": [
        "def remaining_balance(r, i, n, x):\n",
        "    \"\"\"Computes the remaining balance given regular payment amount, interest rate\n",
        "    per period, number of payments, and number of payments already made\n",
        "    \n",
        "    Args:\n",
        "        r: regular payment amount\n",
        "        i: interest rate per period\n",
        "        n: number of payments\n",
        "        x: number of payments already made\n",
        "                \n",
        "    Returns:\n",
        "        The remaining balance\n",
        "    \"\"\"\n",
        "    output = r*((1-(1+i)**(-(n-x)))/i)\n",
        "    return output"
      ],
      "metadata": {
        "id": "cGkUS2qE5pKZ"
      },
      "execution_count": 70,
      "outputs": []
    }
  ],
  "metadata": {
    "kernelspec": {
      "display_name": "Python 3",
      "language": "python",
      "name": "python3"
    },
    "language_info": {
      "codemirror_mode": {
        "name": "ipython",
        "version": 3
      },
      "file_extension": ".py",
      "mimetype": "text/x-python",
      "name": "python",
      "nbconvert_exporter": "python",
      "pygments_lexer": "ipython3",
      "version": "3.7.2"
    },
    "colab": {
      "provenance": [],
      "name": "Copy of lab_1_interest_functions.ipynb",
      "include_colab_link": true
    }
  },
  "nbformat": 4,
  "nbformat_minor": 0
}